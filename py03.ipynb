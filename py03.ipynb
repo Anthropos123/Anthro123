{
 "cells": [
  {
   "cell_type": "markdown",
   "id": "7143950e",
   "metadata": {},
   "source": [
    "# 넘파이 Numpy"
   ]
  },
  {
   "cell_type": "markdown",
   "id": "11581337",
   "metadata": {},
   "source": [
    "## numpy as np"
   ]
  },
  {
   "cell_type": "markdown",
   "id": "c066dfb4",
   "metadata": {},
   "source": []
  },
  {
   "cell_type": "code",
   "execution_count": 1,
   "id": "6ffd69b3",
   "metadata": {},
   "outputs": [
    {
     "name": "stdout",
     "output_type": "stream",
     "text": [
      "Collecting qrcode\n",
      "  Downloading qrcode-8.2-py3-none-any.whl.metadata (17 kB)\n",
      "Requirement already satisfied: colorama in c:\\users\\user\\appdata\\local\\programs\\python\\python313\\lib\\site-packages (from qrcode) (0.4.6)\n",
      "Downloading qrcode-8.2-py3-none-any.whl (45 kB)\n",
      "Installing collected packages: qrcode\n",
      "Successfully installed qrcode-8.2\n"
     ]
    }
   ],
   "source": [
    "!pip install qrcode"
   ]
  },
  {
   "cell_type": "code",
   "execution_count": 13,
   "id": "32963f10",
   "metadata": {},
   "outputs": [
    {
     "ename": "ModuleNotFoundError",
     "evalue": "No module named 'Pil'",
     "output_type": "error",
     "traceback": [
      "\u001b[31m---------------------------------------------------------------------------\u001b[39m",
      "\u001b[31mModuleNotFoundError\u001b[39m                       Traceback (most recent call last)",
      "\u001b[36mCell\u001b[39m\u001b[36m \u001b[39m\u001b[32mIn[13]\u001b[39m\u001b[32m, line 2\u001b[39m\n\u001b[32m      1\u001b[39m \u001b[38;5;28;01mimport\u001b[39;00m\u001b[38;5;250m \u001b[39m\u001b[34;01mqrcode\u001b[39;00m\n\u001b[32m----> \u001b[39m\u001b[32m2\u001b[39m \u001b[38;5;28;01mimport\u001b[39;00m\u001b[38;5;250m \u001b[39m\u001b[34;01mPil\u001b[39;00m\n\u001b[32m      4\u001b[39m \u001b[38;5;28;01mdef\u001b[39;00m\u001b[38;5;250m \u001b[39m\u001b[34mqrcode_maker\u001b[39m(text, filename=\u001b[33m\"\u001b[39m\u001b[33m./qr.png\u001b[39m\u001b[33m\"\u001b[39m):\n\u001b[32m      5\u001b[39m     qr = qrcode.make(text)\n",
      "\u001b[31mModuleNotFoundError\u001b[39m: No module named 'Pil'"
     ]
    }
   ],
   "source": [
    "import qrcode\n",
    "import Pil\n",
    "\n",
    "def qrcode_maker(text, filename=\"./qr.png\"):\n",
    "    qr = qrcode.make(text)\n",
    "    qr.save(filename)"
   ]
  },
  {
   "cell_type": "code",
   "execution_count": 14,
   "id": "b19f6f7c",
   "metadata": {},
   "outputs": [],
   "source": [
    "qrcode_maker(\"안녕하세요. 박형진입니다.\")"
   ]
  },
  {
   "cell_type": "code",
   "execution_count": 9,
   "id": "4c3fa4f8",
   "metadata": {},
   "outputs": [
    {
     "name": "stdout",
     "output_type": "stream",
     "text": [
      "Collecting Pillow\n",
      "  Downloading pillow-11.3.0-cp313-cp313-win_amd64.whl.metadata (9.2 kB)\n",
      "Downloading pillow-11.3.0-cp313-cp313-win_amd64.whl (7.0 MB)\n",
      "   ---------------------------------------- 0.0/7.0 MB ? eta -:--:--\n",
      "   ---------------------------------------- 0.0/7.0 MB ? eta -:--:--\n",
      "   ---------------------------------------- 0.0/7.0 MB ? eta -:--:--\n",
      "   ---------------------------------------- 0.0/7.0 MB ? eta -:--:--\n",
      "   ---------------------------------------- 0.0/7.0 MB ? eta -:--:--\n",
      "   ---------------------------------------- 0.0/7.0 MB ? eta -:--:--\n",
      "   - -------------------------------------- 0.3/7.0 MB ? eta -:--:--\n",
      "   - -------------------------------------- 0.3/7.0 MB ? eta -:--:--\n",
      "   --- ------------------------------------ 0.5/7.0 MB 976.8 kB/s eta 0:00:07\n",
      "   --- ------------------------------------ 0.5/7.0 MB 976.8 kB/s eta 0:00:07\n",
      "   ---- ----------------------------------- 0.8/7.0 MB 687.3 kB/s eta 0:00:10\n",
      "   ---- ----------------------------------- 0.8/7.0 MB 687.3 kB/s eta 0:00:10\n",
      "   ------ --------------------------------- 1.0/7.0 MB 700.6 kB/s eta 0:00:09\n",
      "   ------ --------------------------------- 1.0/7.0 MB 700.6 kB/s eta 0:00:09\n",
      "   ------- -------------------------------- 1.3/7.0 MB 665.0 kB/s eta 0:00:09\n",
      "   --------- ------------------------------ 1.6/7.0 MB 708.9 kB/s eta 0:00:08\n",
      "   --------- ------------------------------ 1.6/7.0 MB 708.9 kB/s eta 0:00:08\n",
      "   --------- ------------------------------ 1.6/7.0 MB 708.9 kB/s eta 0:00:08\n",
      "   --------- ------------------------------ 1.6/7.0 MB 708.9 kB/s eta 0:00:08\n",
      "   ---------- ----------------------------- 1.8/7.0 MB 601.4 kB/s eta 0:00:09\n",
      "   ---------- ----------------------------- 1.8/7.0 MB 601.4 kB/s eta 0:00:09\n",
      "   ---------- ----------------------------- 1.8/7.0 MB 601.4 kB/s eta 0:00:09\n",
      "   ---------- ----------------------------- 1.8/7.0 MB 601.4 kB/s eta 0:00:09\n",
      "   ------------ --------------------------- 2.1/7.0 MB 523.0 kB/s eta 0:00:10\n",
      "   ------------ --------------------------- 2.1/7.0 MB 523.0 kB/s eta 0:00:10\n",
      "   ------------ --------------------------- 2.1/7.0 MB 523.0 kB/s eta 0:00:10\n",
      "   ------------ --------------------------- 2.1/7.0 MB 523.0 kB/s eta 0:00:10\n",
      "   ------------ --------------------------- 2.1/7.0 MB 523.0 kB/s eta 0:00:10\n",
      "   ------------ --------------------------- 2.1/7.0 MB 523.0 kB/s eta 0:00:10\n",
      "   ------------ --------------------------- 2.1/7.0 MB 523.0 kB/s eta 0:00:10\n",
      "   ------------ --------------------------- 2.1/7.0 MB 523.0 kB/s eta 0:00:10\n",
      "   ------------- -------------------------- 2.4/7.0 MB 403.6 kB/s eta 0:00:12\n",
      "   ------------- -------------------------- 2.4/7.0 MB 403.6 kB/s eta 0:00:12\n",
      "   ------------- -------------------------- 2.4/7.0 MB 403.6 kB/s eta 0:00:12\n",
      "   ------------- -------------------------- 2.4/7.0 MB 403.6 kB/s eta 0:00:12\n",
      "   ------------- -------------------------- 2.4/7.0 MB 403.6 kB/s eta 0:00:12\n",
      "   ------------- -------------------------- 2.4/7.0 MB 403.6 kB/s eta 0:00:12\n",
      "   --------------- ------------------------ 2.6/7.0 MB 364.2 kB/s eta 0:00:12\n",
      "   --------------- ------------------------ 2.6/7.0 MB 364.2 kB/s eta 0:00:12\n",
      "   --------------- ------------------------ 2.6/7.0 MB 364.2 kB/s eta 0:00:12\n",
      "   --------------- ------------------------ 2.6/7.0 MB 364.2 kB/s eta 0:00:12\n",
      "   --------------- ------------------------ 2.6/7.0 MB 364.2 kB/s eta 0:00:12\n",
      "   ---------------- ----------------------- 2.9/7.0 MB 341.8 kB/s eta 0:00:12\n",
      "   ---------------- ----------------------- 2.9/7.0 MB 341.8 kB/s eta 0:00:12\n",
      "   ---------------- ----------------------- 2.9/7.0 MB 341.8 kB/s eta 0:00:12\n",
      "   ---------------- ----------------------- 2.9/7.0 MB 341.8 kB/s eta 0:00:12\n",
      "   ---------------- ----------------------- 2.9/7.0 MB 341.8 kB/s eta 0:00:12\n",
      "   ------------------ --------------------- 3.1/7.0 MB 333.7 kB/s eta 0:00:12\n",
      "   ------------------ --------------------- 3.1/7.0 MB 333.7 kB/s eta 0:00:12\n",
      "   ------------------- -------------------- 3.4/7.0 MB 340.5 kB/s eta 0:00:11\n",
      "   ------------------- -------------------- 3.4/7.0 MB 340.5 kB/s eta 0:00:11\n",
      "   ------------------- -------------------- 3.4/7.0 MB 340.5 kB/s eta 0:00:11\n",
      "   --------------------- ------------------ 3.7/7.0 MB 346.6 kB/s eta 0:00:10\n",
      "   --------------------- ------------------ 3.7/7.0 MB 346.6 kB/s eta 0:00:10\n",
      "   --------------------- ------------------ 3.7/7.0 MB 346.6 kB/s eta 0:00:10\n",
      "   ---------------------- ----------------- 3.9/7.0 MB 351.7 kB/s eta 0:00:09\n",
      "   ---------------------- ----------------- 3.9/7.0 MB 351.7 kB/s eta 0:00:09\n",
      "   ---------------------- ----------------- 3.9/7.0 MB 351.7 kB/s eta 0:00:09\n",
      "   ---------------------- ----------------- 3.9/7.0 MB 351.7 kB/s eta 0:00:09\n",
      "   ------------------------ --------------- 4.2/7.0 MB 348.2 kB/s eta 0:00:08\n",
      "   ------------------------ --------------- 4.2/7.0 MB 348.2 kB/s eta 0:00:08\n",
      "   ------------------------- -------------- 4.5/7.0 MB 360.2 kB/s eta 0:00:08\n",
      "   --------------------------- ------------ 4.7/7.0 MB 370.7 kB/s eta 0:00:07\n",
      "   --------------------------- ------------ 4.7/7.0 MB 370.7 kB/s eta 0:00:07\n",
      "   --------------------------- ------------ 4.7/7.0 MB 370.7 kB/s eta 0:00:07\n",
      "   ---------------------------- ----------- 5.0/7.0 MB 372.2 kB/s eta 0:00:06\n",
      "   ---------------------------- ----------- 5.0/7.0 MB 372.2 kB/s eta 0:00:06\n",
      "   ---------------------------- ----------- 5.0/7.0 MB 372.2 kB/s eta 0:00:06\n",
      "   ------------------------------ --------- 5.2/7.0 MB 379.5 kB/s eta 0:00:05\n",
      "   ------------------------------ --------- 5.2/7.0 MB 379.5 kB/s eta 0:00:05\n",
      "   ------------------------------ --------- 5.2/7.0 MB 379.5 kB/s eta 0:00:05\n",
      "   ------------------------------- -------- 5.5/7.0 MB 380.1 kB/s eta 0:00:04\n",
      "   --------------------------------- ------ 5.8/7.0 MB 392.8 kB/s eta 0:00:04\n",
      "   ---------------------------------- ----- 6.0/7.0 MB 400.6 kB/s eta 0:00:03\n",
      "   ---------------------------------- ----- 6.0/7.0 MB 400.6 kB/s eta 0:00:03\n",
      "   ------------------------------------ --- 6.3/7.0 MB 411.6 kB/s eta 0:00:02\n",
      "   ------------------------------------- -- 6.6/7.0 MB 421.7 kB/s eta 0:00:02\n",
      "   ---------------------------------------  6.8/7.0 MB 431.3 kB/s eta 0:00:01\n",
      "   ---------------------------------------  6.8/7.0 MB 431.3 kB/s eta 0:00:01\n",
      "   ---------------------------------------- 7.0/7.0 MB 429.7 kB/s eta 0:00:00\n",
      "Installing collected packages: Pillow\n",
      "Successfully installed Pillow-11.3.0\n"
     ]
    }
   ],
   "source": [
    "!pip install Pillow"
   ]
  },
  {
   "cell_type": "code",
   "execution_count": 19,
   "id": "912250a9",
   "metadata": {},
   "outputs": [
    {
     "data": {
      "text/plain": [
       "([1, 2, 3, 4, 5], [1, 2, 3, 4, 5, 6])"
      ]
     },
     "execution_count": 19,
     "metadata": {},
     "output_type": "execute_result"
    }
   ],
   "source": [
    "# numpy \n",
    "import numpy as np\n",
    "\n",
    "data1 = [1,2,3,4,5]\n",
    "data2 = [1,2,3,4,5,6]\n",
    "data1, data2"
   ]
  },
  {
   "cell_type": "code",
   "execution_count": 18,
   "id": "a1d44fe1",
   "metadata": {},
   "outputs": [
    {
     "data": {
      "text/plain": [
       "(array([1, 2, 3, 4, 5]), array([1, 2, 3, 4, 5, 6]))"
      ]
     },
     "execution_count": 18,
     "metadata": {},
     "output_type": "execute_result"
    }
   ],
   "source": [
    "arr1 = np.array(data1)\n",
    "arr2 = np.array(data2)\n",
    "arr1, arr2"
   ]
  },
  {
   "cell_type": "code",
   "execution_count": 21,
   "id": "27a8e013",
   "metadata": {},
   "outputs": [
    {
     "data": {
      "text/plain": [
       "((5,), dtype('int64'))"
      ]
     },
     "execution_count": 21,
     "metadata": {},
     "output_type": "execute_result"
    }
   ],
   "source": [
    "arr1. shape , arr1.dtype"
   ]
  },
  {
   "cell_type": "code",
   "execution_count": 26,
   "id": "c4a76f45",
   "metadata": {},
   "outputs": [
    {
     "data": {
      "text/plain": [
       "array([[1, 2, 3],\n",
       "       [4, 5, 6]])"
      ]
     },
     "execution_count": 26,
     "metadata": {},
     "output_type": "execute_result"
    }
   ],
   "source": [
    "arr3 = np.array([[1,2,3],[4,5,6]])\n",
    "arr3"
   ]
  },
  {
   "cell_type": "code",
   "execution_count": 25,
   "id": "b1b97961",
   "metadata": {},
   "outputs": [
    {
     "data": {
      "text/plain": [
       "((2, 3), dtype('int64'))"
      ]
     },
     "execution_count": 25,
     "metadata": {},
     "output_type": "execute_result"
    }
   ],
   "source": [
    "\n",
    "arr3.shape, arr3.dtype"
   ]
  },
  {
   "cell_type": "code",
   "execution_count": 28,
   "id": "50c4250b",
   "metadata": {},
   "outputs": [
    {
     "data": {
      "text/plain": [
       "(array([0., 0., 0., 0., 0., 0., 0., 0., 0., 0.]), (10,), dtype('float64'))"
      ]
     },
     "execution_count": 28,
     "metadata": {},
     "output_type": "execute_result"
    }
   ],
   "source": [
    "zz = np.zeros(10)\n",
    "zz, zz.shape, zz.dtype"
   ]
  },
  {
   "cell_type": "code",
   "execution_count": 30,
   "id": "f700b0e6",
   "metadata": {},
   "outputs": [
    {
     "data": {
      "text/plain": [
       "(array([[0., 0., 0., 0., 0.],\n",
       "        [0., 0., 0., 0., 0.],\n",
       "        [0., 0., 0., 0., 0.]]),\n",
       " (3, 5),\n",
       " dtype('float64'))"
      ]
     },
     "execution_count": 30,
     "metadata": {},
     "output_type": "execute_result"
    }
   ],
   "source": [
    "zzz = np.zeros((3,5))\n",
    "zzz, zzz.shape, zzz.dtype"
   ]
  },
  {
   "cell_type": "code",
   "execution_count": 32,
   "id": "60d2acb1",
   "metadata": {},
   "outputs": [
    {
     "data": {
      "text/plain": [
       "(array([1., 1., 1., 1., 1., 1., 1.]), (7,), dtype('float64'))"
      ]
     },
     "execution_count": 32,
     "metadata": {},
     "output_type": "execute_result"
    }
   ],
   "source": [
    "oo = np.ones(7)\n",
    "oo, oo.shape, oo.dtype"
   ]
  },
  {
   "cell_type": "code",
   "execution_count": 34,
   "id": "ed2445a7",
   "metadata": {},
   "outputs": [
    {
     "data": {
      "text/plain": [
       "(array([[[1., 1., 1.],\n",
       "         [1., 1., 1.],\n",
       "         [1., 1., 1.],\n",
       "         [1., 1., 1.],\n",
       "         [1., 1., 1.],\n",
       "         [1., 1., 1.],\n",
       "         [1., 1., 1.],\n",
       "         [1., 1., 1.],\n",
       "         [1., 1., 1.],\n",
       "         [1., 1., 1.]],\n",
       " \n",
       "        [[1., 1., 1.],\n",
       "         [1., 1., 1.],\n",
       "         [1., 1., 1.],\n",
       "         [1., 1., 1.],\n",
       "         [1., 1., 1.],\n",
       "         [1., 1., 1.],\n",
       "         [1., 1., 1.],\n",
       "         [1., 1., 1.],\n",
       "         [1., 1., 1.],\n",
       "         [1., 1., 1.]]]),\n",
       " (2, 10, 3),\n",
       " dtype('float64'))"
      ]
     },
     "execution_count": 34,
     "metadata": {},
     "output_type": "execute_result"
    }
   ],
   "source": [
    "ooo = np.ones((2,10,3))\n",
    "ooo, ooo.shape, ooo.dtype"
   ]
  },
  {
   "cell_type": "code",
   "execution_count": 35,
   "id": "474f2809",
   "metadata": {},
   "outputs": [
    {
     "data": {
      "text/plain": [
       "array([0, 1, 2, 3, 4, 5, 6, 7, 8, 9])"
      ]
     },
     "execution_count": 35,
     "metadata": {},
     "output_type": "execute_result"
    }
   ],
   "source": [
    "np.arange(10)"
   ]
  },
  {
   "cell_type": "code",
   "execution_count": 36,
   "id": "26dd1d58",
   "metadata": {},
   "outputs": [
    {
     "data": {
      "text/plain": [
       "array([ 4,  5,  6,  7,  8,  9, 10, 11])"
      ]
     },
     "execution_count": 36,
     "metadata": {},
     "output_type": "execute_result"
    }
   ],
   "source": [
    "np.arange(4,12)"
   ]
  },
  {
   "cell_type": "markdown",
   "id": "bda66394",
   "metadata": {},
   "source": [
    "## np.array 연산"
   ]
  },
  {
   "cell_type": "code",
   "execution_count": 38,
   "id": "6b5caba9",
   "metadata": {},
   "outputs": [
    {
     "data": {
      "text/plain": [
       "(array([[1, 2, 3],\n",
       "        [4, 5, 6]]),\n",
       " array([[10, 11, 12],\n",
       "        [13, 14, 15]]))"
      ]
     },
     "execution_count": 38,
     "metadata": {},
     "output_type": "execute_result"
    }
   ],
   "source": [
    "arr1 = np.array([[1,2,3],[4,5,6]])\n",
    "arr2 = np.array([[10,11,12],[13,14,15]])\n",
    "arr1, arr2\n"
   ]
  },
  {
   "cell_type": "code",
   "execution_count": 39,
   "id": "df6c1f5c",
   "metadata": {},
   "outputs": [
    {
     "name": "stdout",
     "output_type": "stream",
     "text": [
      "(2, 3) int64\n",
      "(2, 3) int64\n"
     ]
    }
   ],
   "source": [
    "print(arr1.shape, arr1.dtype)\n",
    "print(arr2.shape, arr2.dtype)"
   ]
  },
  {
   "cell_type": "code",
   "execution_count": 48,
   "id": "03b52887",
   "metadata": {},
   "outputs": [
    {
     "name": "stdout",
     "output_type": "stream",
     "text": [
      "[[ 3  6  9]\n",
      " [12 15 18]]\n",
      "[[11 13 15]\n",
      " [17 19 21]]\n",
      "[[-9 -9 -9]\n",
      " [-9 -9 -9]]\n",
      "[[10 22 36]\n",
      " [52 70 90]]\n",
      "[[0.1        0.18181818 0.25      ]\n",
      " [0.30769231 0.35714286 0.4       ]]\n",
      "[[ 1.   2.9  4.8]\n",
      " [ 6.7  8.6 10.5]]\n"
     ]
    }
   ],
   "source": [
    "result0 = arr1 * 3\n",
    "result1 = arr1 + arr2\n",
    "result2 = arr1 - arr2\n",
    "result3 = arr1 * arr2\n",
    "result4 = arr1 / arr2\n",
    "result5 = arr1*2 - arr2/10\n",
    "\n",
    "print(result0)\n",
    "print(result1)\n",
    "print(result2)\n",
    "print(result3)\n",
    "print(result4)\n",
    "print(result5)"
   ]
  }
 ],
 "metadata": {
  "kernelspec": {
   "display_name": "Python 3 (ipykernel)",
   "language": "python",
   "name": "python3"
  },
  "language_info": {
   "codemirror_mode": {
    "name": "ipython",
    "version": 3
   },
   "file_extension": ".py",
   "mimetype": "text/x-python",
   "name": "python",
   "nbconvert_exporter": "python",
   "pygments_lexer": "ipython3",
   "version": "3.13.3"
  }
 },
 "nbformat": 4,
 "nbformat_minor": 5
}
