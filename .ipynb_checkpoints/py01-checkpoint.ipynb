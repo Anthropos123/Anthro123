{
 "cells": [
  {
   "cell_type": "code",
   "execution_count": null,
   "id": "97b0a811-8e6f-4e47-adac-f35239427160",
   "metadata": {},
   "outputs": [],
   "source": [
    "# 파이썬 시작"
   ]
  }
 ],
 "metadata": {
  "kernelspec": {
   "display_name": "Python 3 (ipykernel)",
   "language": "python",
   "name": "python3"
  },
  "language_info": {
   "codemirror_mode": {
    "name": "ipython",
    "version": 3
   },
   "file_extension": ".py",
   "mimetype": "text/x-python",
   "name": "python",
   "nbconvert_exporter": "python",
   "pygments_lexer": "ipython3",
   "version": "3.13.3"
  }
 },
 "nbformat": 4,
 "nbformat_minor": 5
}
