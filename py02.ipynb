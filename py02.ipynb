{
 "cells": [
  {
   "cell_type": "markdown",
   "id": "2fcdb0e0",
   "metadata": {},
   "source": [
    "# 라이브러리 응용"
   ]
  },
  {
   "cell_type": "code",
   "execution_count": null,
   "id": "25aad02c",
   "metadata": {},
   "outputs": [],
   "source": [
    "# 쓰레드 제어 준비\n",
    "import time as t\n",
    "\n",
    "# 작업 5초\n",
    "def long_task(): # 일거리를 길게 만들기\n",
    "    for w in range(5):\n",
    "        print(f\"일하는 중...{w+1}\")\n",
    "        t.sleep(1)\n",
    "\n"
   ]
  },
  {
   "cell_type": "code",
   "execution_count": 7,
   "id": "93ddc2a2",
   "metadata": {},
   "outputs": [
    {
     "name": "stdout",
     "output_type": "stream",
     "text": [
      "=====start=====\n",
      "일하는 중...1\n",
      "일하는 중...2\n",
      "일하는 중...3\n",
      "일하는 중...4\n",
      "일하는 중...5\n",
      "=====end======= \n",
      "=====start=====\n",
      "일하는 중...1\n",
      "일하는 중...2\n",
      "일하는 중...3\n",
      "일하는 중...4\n",
      "일하는 중...5\n",
      "=====end======= \n",
      "=====start=====\n",
      "일하는 중...1\n",
      "일하는 중...2\n",
      "일하는 중...3\n",
      "일하는 중...4\n",
      "일하는 중...5\n",
      "=====end======= \n",
      "=====start=====\n",
      "일하는 중...1\n",
      "일하는 중...2\n",
      "일하는 중...3\n",
      "일하는 중...4\n",
      "일하는 중...5\n",
      "=====end======= \n",
      "=====start=====\n",
      "일하는 중...1\n",
      "일하는 중...2\n",
      "일하는 중...3\n",
      "일하는 중...4\n",
      "일하는 중...5\n",
      "=====end======= \n"
     ]
    }
   ],
   "source": [
    "# 쓰레드 제어\n",
    "# 작업 5초 x 5회 = 25초\n",
    "# 작업 5초\n",
    "\n",
    "\n",
    "import time as t\n",
    "\n",
    "def long_task(): # 일거리를 길게 만들기\n",
    "    for w in range(5):\n",
    "        print(f\"일하는 중...{w+1}\")\n",
    "        t.sleep(1)\n",
    "\n",
    "for n in range(5):\n",
    "    print(\"=====start=====\")\n",
    "    long_task()\n",
    "    print(\"=====end======= \")"
   ]
  },
  {
   "cell_type": "code",
   "execution_count": 8,
   "id": "c19f1b6d",
   "metadata": {},
   "outputs": [
    {
     "name": "stdout",
     "output_type": "stream",
     "text": [
      "=====start=====\n",
      "일하는 중...1\n",
      "일하는 중...2\n",
      "일하는 중...3\n",
      "일하는 중...4\n",
      "일하는 중...5\n",
      "=====end======= \n",
      "=====start=====\n",
      "일하는 중...1\n",
      "일하는 중...2\n",
      "일하는 중...3\n",
      "일하는 중...4\n",
      "일하는 중...5\n",
      "=====end======= \n",
      "=====start=====\n",
      "일하는 중...1\n",
      "일하는 중...2\n",
      "일하는 중...3\n",
      "일하는 중...4\n",
      "일하는 중...5\n",
      "=====end======= \n",
      "=====start=====\n",
      "일하는 중...1\n",
      "일하는 중...2\n",
      "일하는 중...3\n",
      "일하는 중...4\n",
      "일하는 중...5\n",
      "=====end======= \n",
      "=====start=====\n",
      "일하는 중...1\n",
      "일하는 중...2\n",
      "일하는 중...3\n",
      "일하는 중...4\n",
      "일하는 중...5\n",
      "=====end======= \n",
      "총 작업 시간: 25.02초\n"
     ]
    }
   ],
   "source": [
    "# 쓰레드 제어\n",
    "# 작업 5초 x 5회 = 25초\n",
    "# 작업 5초\n",
    "\n",
    "import time as t\n",
    "\n",
    "start = t.time()\n",
    "\n",
    "def long_task(): # 일거리를 길게 만들기\n",
    "    for w in range(5):\n",
    "        print(f\"일하는 중...{w+1}\")\n",
    "        t.sleep(1)\n",
    "\n",
    "for n in range(5):\n",
    "    print(\"=====start=====\")\n",
    "    long_task()\n",
    "    print(\"=====end======= \")\n",
    "\n",
    "print(f\"총 작업 시간: {t.time() - start:.2f}초\")"
   ]
  },
  {
   "cell_type": "code",
   "execution_count": null,
   "id": "35f572f6",
   "metadata": {},
   "outputs": [
    {
     "name": "stdout",
     "output_type": "stream",
     "text": [
      "=====start=====\n",
      "[<Thread(Thread-42 (long_task), initial)>, <Thread(Thread-43 (long_task), initial)>, <Thread(Thread-44 (long_task), initial)>, <Thread(Thread-45 (long_task), initial)>, <Thread(Thread-46 (long_task), initial)>]\n",
      "=====end======= \n",
      "총 작업 시간: 0.00초\n"
     ]
    }
   ],
   "source": [
    "# 쓰레드를 사용함, 프로그램적으로 병렬처리  // 전처리\n",
    "\n",
    "import threading           # 쓰레드 잘못 사용시 문제 일으킴, cpu작게쓰고 손으로 쓸게 많은것.\n",
    "                            # => 입출력이 많은곳\n",
    "start = t.time()\n",
    "print(\"=====start=====\")\n",
    "\n",
    "threads = []\n",
    "for n in range(5):\n",
    "    th = threading.Thread(target=long_task)\n",
    "    threads.append(th)\n",
    "print(threads)\n",
    "\n",
    "print(\"=====end======= \")\n",
    "\n",
    "print(f\"총 작업 시간: {t.time() - start:.2f}초\")"
   ]
  },
  {
   "cell_type": "code",
   "execution_count": 13,
   "id": "527b35b6",
   "metadata": {},
   "outputs": [
    {
     "name": "stdout",
     "output_type": "stream",
     "text": [
      "=====start=====\n",
      "일하는 중...1\n",
      "일하는 중...1\n",
      "일하는 중...1\n",
      "일하는 중...1\n",
      "일하는 중...1\n",
      "일하는 중...2일하는 중...2\n",
      "일하는 중...2\n",
      "일하는 중...2\n",
      "일하는 중...2\n",
      "\n",
      "일하는 중...3일하는 중...3\n",
      "일하는 중...3\n",
      "일하는 중...3\n",
      "일하는 중...3\n",
      "\n",
      "일하는 중...4\n",
      "일하는 중...4\n",
      "일하는 중...4\n",
      "일하는 중...4\n",
      "일하는 중...4\n",
      "일하는 중...5일하는 중...5\n",
      "일하는 중...5\n",
      "일하는 중...5\n",
      "\n",
      "일하는 중...5\n",
      "=====end======= \n",
      "총 작업 시간: 5.01초\n"
     ]
    }
   ],
   "source": [
    "# 쓰레드를 사용함, 프로그램적으로 병렬처리\n",
    "                      # => 입출력이 많은곳\n",
    "start = t.time()\n",
    "print(\"=====start=====\")\n",
    "\n",
    "threads = []\n",
    "for n in range(5):\n",
    "    th = threading.Thread(target=long_task)\n",
    "    threads.append(th)\n",
    "\n",
    "for tr in threads:\n",
    "    tr.start()  # 쓰레드 시작\n",
    "for tr in threads:\n",
    "    tr.join()   # 쓰레드가 끝날 때까지 기다림 waiting\n",
    "\n",
    "\n",
    "\n",
    "print(\"=====end======= \")\n",
    "\n",
    "print(f\"총 작업 시간: {t.time() - start:.2f}초\")"
   ]
  },
  {
   "cell_type": "code",
   "execution_count": 15,
   "id": "fdfe3669",
   "metadata": {},
   "outputs": [
    {
     "name": "stdout",
     "output_type": "stream",
     "text": [
      "=====start=====\n",
      "=====end======= \n",
      "총 작업 시간: 0.07초\n"
     ]
    }
   ],
   "source": [
    "#multithreading을 사용함. 물리적으로 cpu코어를 활용하여 병렬처리\n",
    "\n",
    "import multiprocessing\n",
    "import time as t\n",
    "\n",
    "\n",
    "def long_task(): # 일거리를 길게 만들기\n",
    "    for w in range(5):\n",
    "        print(f\"일하는 중...{w+1}\")\n",
    "        t.sleep(1)\n",
    "\n",
    "if __name__ == \"__main__\":\n",
    "    start = t.time()\n",
    "    print(\"=====start=====\")\n",
    "\n",
    "    processes = []\n",
    "    for n in range(5):\n",
    "        p = multiprocessing.Process(target=long_task)\n",
    "        processes.append(p)\n",
    "\n",
    "    for pr in processes:\n",
    "        pr.start()  # 프로세스 시작\n",
    "    for pr in processes:\n",
    "        pr.join()   # 프로세스가 끝날 때까지 기다림 waiting\n",
    "\n",
    "    print(\"=====end======= \")\n",
    "\n",
    "    print(f\"총 작업 시간: {t.time() - start:.2f}초\")\n"
   ]
  },
  {
   "cell_type": "markdown",
   "id": "28bf298e",
   "metadata": {},
   "source": [
    "## JSON : 파일포맷형식, iot에서 주고받을때"
   ]
  },
  {
   "cell_type": "code",
   "execution_count": null,
   "id": "8cd633e4",
   "metadata": {},
   "outputs": [
    {
     "data": {
      "text/plain": [
       "{'name': '홍길동', 'age': 30, 'address': {'city': '서울', 'district': '종로구'}}"
      ]
     },
     "execution_count": 17,
     "metadata": {},
     "output_type": "execute_result"
    }
   ],
   "source": [
    "test = {\n",
    "    \"name\" : \"홍길동\",\n",
    "    \"age\" : 30,\n",
    "    \"address\" : \"부산\"\n",
    "}\n",
    "print(type(test),test)"
   ]
  },
  {
   "cell_type": "code",
   "execution_count": 7,
   "id": "5d688162",
   "metadata": {},
   "outputs": [
    {
     "name": "stdout",
     "output_type": "stream",
     "text": [
      "<class 'str'> {\"name\": \"\\ud64d\\uae38\\ub3d9\", \"age\": 30, \"address\": \"\\ubd80\\uc0b0\"}\n"
     ]
    }
   ],
   "source": [
    "import json\n",
    "# JSON으로 변환\n",
    "test = {\n",
    "    \"name\" : \"홍길동\",\n",
    "    \"age\" : 30,\n",
    "    \"address\" : \"부산\"\n",
    "}\n",
    "data = json.dumps(test)  # JSON 문자열로 변환\n",
    "\n",
    "print(type(data),data)"
   ]
  },
  {
   "cell_type": "code",
   "execution_count": 16,
   "id": "2f7235ab",
   "metadata": {},
   "outputs": [
    {
     "name": "stdout",
     "output_type": "stream",
     "text": [
      "스마트카 데이터가 smartcar_data.json 파일에 저장되었습니다.\n"
     ]
    }
   ],
   "source": [
    "# 스마트카 데이터 json 파일 만들기\n",
    "import json\n",
    "import time\n",
    "import random\n",
    "\n",
    "\n",
    "def generate_smartcar_data():\n",
    "    return {\n",
    "        \"car_id\": random.randint(1,100),\n",
    "        \"speed\": random.randint(0, 150),\n",
    "        \"fuel_level\": random.uniform(0, 100),  # 연료 레벨을 0에서 100 사이의 실수로 생성\n",
    "        \"latitude\": round(random.uniform(-90.0, 90.0),6),  # 위도\n",
    "        \"longitude\": round(random.uniform(-180.0,180.0),6), # 경도\n",
    "        \"timestamp\": time.time()  # 현재 시간\n",
    "    }\n",
    "\n",
    "with open(\"smartcar_data.json\", \"w\") as file:\n",
    "    for _ in range(100):  # 100개의 데이터 생성\n",
    "        data = generate_smartcar_data()\n",
    "        json.dump(data, file)\n",
    "        # JSON 문자열로 변환하여 파일에 저장\n",
    "        file.write(\"\\n\")  \n",
    "    print(\"스마트카 데이터가 smartcar_data.json 파일에 저장되었습니다.\")\n",
    "    "
   ]
  },
  {
   "cell_type": "code",
   "execution_count": 9,
   "id": "1b352f68",
   "metadata": {},
   "outputs": [
    {
     "data": {
      "text/plain": [
       "'c:\\\\phj'"
      ]
     },
     "execution_count": 9,
     "metadata": {},
     "output_type": "execute_result"
    }
   ],
   "source": [
    "import os\n",
    "os.chdir(\"c:/phj\")\n",
    "os.getcwd()  # 현재 작업 디렉토리 확인 "
   ]
  },
  {
   "cell_type": "code",
   "execution_count": 23,
   "id": "b1a57ca9",
   "metadata": {},
   "outputs": [
    {
     "name": "stdout",
     "output_type": "stream",
     "text": [
      "스마트카 데이터가 smartcar_data.json 파일에 저장되었습니다.\n"
     ]
    }
   ],
   "source": [
    "# 스마트카 데이터 json 파일 만들기\n",
    "import json\n",
    "import time\n",
    "import random\n",
    "\n",
    "\n",
    "def generate_smartcar_data( num = 0 ):\n",
    "    return {\n",
    "        \"car_id\": \"num\",\n",
    "        \"speed\": random.randint(0, 150),\n",
    "        \"fuel_level\": random.uniform(0, 100),  # 연료 레벨을 0에서 100 사이의 실수로 생성\n",
    "        \"latitude\": round(random.uniform(-90.0, 90.0),6),  # 위도\n",
    "        \"longitude\": round(random.uniform(-180.0,180.0),6), # 경도\n",
    "        \"timestamp\": time.time()  # 현재 시간\n",
    "    }\n",
    "\n",
    "with open(\"smartcar_data.json\", \"w\") as file:\n",
    "\n",
    "    data = [generate_smartcar_data(n) for n in range(100)]\n",
    "\n",
    "    json.dump(data, file)\n",
    "    # JSON 문자열로 변환하여 파일에 저장\n",
    "    file.write(\"\\n\")  \n",
    "    print(\"스마트카 데이터가 smartcar_data.json 파일에 저장되었습니다.\")\n",
    "    "
   ]
  },
  {
   "cell_type": "code",
   "execution_count": 24,
   "id": "cafce498",
   "metadata": {},
   "outputs": [
    {
     "name": "stdout",
     "output_type": "stream",
     "text": [
      "[{'car_id': 'num', 'speed': 6, 'fuel_level': 3.5594482965892627, 'latitude': 72.096918, 'longitude': 170.702876, 'timestamp': 1752028450.127876}, {'car_id': 'num', 'speed': 134, 'fuel_level': 92.43371284865182, 'latitude': -27.534141, 'longitude': 68.862687, 'timestamp': 1752028450.12788}, {'car_id': 'num', 'speed': 143, 'fuel_level': 0.05743270567845071, 'latitude': -82.00234, 'longitude': 15.975545, 'timestamp': 1752028450.1278825}, {'car_id': 'num', 'speed': 47, 'fuel_level': 58.04752561606223, 'latitude': -16.419314, 'longitude': 165.923136, 'timestamp': 1752028450.1278837}, {'car_id': 'num', 'speed': 24, 'fuel_level': 78.92424847518177, 'latitude': -46.272157, 'longitude': 142.78337, 'timestamp': 1752028450.1278856}]\n"
     ]
    }
   ],
   "source": [
    "with open(\"./smartcar_data.json\", \"r\") as f:\n",
    "    data = json.load(f)\n",
    "print(data[:5])"
   ]
  },
  {
   "cell_type": "code",
   "execution_count": 25,
   "id": "9425a2b8",
   "metadata": {},
   "outputs": [
    {
     "ename": "SyntaxError",
     "evalue": "expected ':' (3940166423.py, line 2)",
     "output_type": "error",
     "traceback": [
      "  \u001b[36mCell\u001b[39m\u001b[36m \u001b[39m\u001b[32mIn[25]\u001b[39m\u001b[32m, line 2\u001b[39m\n\u001b[31m    \u001b[39m\u001b[31mif d.get(\"car_id\") == 3\u001b[39m\n                           ^\n\u001b[31mSyntaxError\u001b[39m\u001b[31m:\u001b[39m expected ':'\n"
     ]
    }
   ],
   "source": [
    "for d in data[:5]:\n",
    "    if d.get(\"car_id\") == 3\n",
    "        print(d)\n"
   ]
  },
  {
   "cell_type": "code",
   "execution_count": 30,
   "id": "8fedff79",
   "metadata": {},
   "outputs": [
    {
     "name": "stdout",
     "output_type": "stream",
     "text": [
      "{'userId': 8, 'id': 77, 'title': 'necessitatibus quasi exercitationem odio', 'body': 'modi ut in nulla repudiandae dolorum nostrum eos\\naut consequatur omnis\\nut incidunt est omnis iste et quam\\nvoluptates sapiente aliquam asperiores nobis amet corrupti repudiandae provident'}\n"
     ]
    }
   ],
   "source": [
    "import requests\n",
    "import json\n",
    "\n",
    "url = \"https://jsonplaceholder.typicode.com/posts\"\n",
    "\n",
    "data = requests.get(url).json()  #<=requests에 포함된 서비스\n",
    "for d in data:\n",
    "    if d.get(\"id\") == 77:\n",
    "        print(d)\n"
   ]
  },
  {
   "cell_type": "code",
   "execution_count": 32,
   "id": "6a1e8b4a",
   "metadata": {},
   "outputs": [
    {
     "name": "stdout",
     "output_type": "stream",
     "text": [
      "77 necessitatibus quasi exercitationem odio\n"
     ]
    }
   ],
   "source": [
    "import requests\n",
    "import json\n",
    "\n",
    "url = \"https://jsonplaceholder.typicode.com/posts\"\n",
    "\n",
    "data = requests.get(url).json()  #<=requests에 포함된 서비스\n",
    "for d in data:\n",
    "    if d.get(\"id\") == 77:\n",
    "        print(d[\"id\"],d[\"title\"])\n"
   ]
  },
  {
   "cell_type": "code",
   "execution_count": 37,
   "id": "f937b2b4",
   "metadata": {},
   "outputs": [
    {
     "name": "stdout",
     "output_type": "stream",
     "text": [
      "50 repellendus qui recusandae incidunt voluptates tenetur qui omnis exercitationem\n",
      "51 soluta aliquam aperiam consequatur illo quis voluptas\n",
      "52 qui enim et consequuntur quia animi quis voluptate quibusdam\n",
      "53 ut quo aut ducimus alias\n",
      "54 sit asperiores ipsam eveniet odio non quia\n",
      "55 sit vel voluptatem et non libero\n",
      "56 qui et at rerum necessitatibus\n",
      "57 sed ab est est\n",
      "58 voluptatum itaque dolores nisi et quasi\n",
      "59 qui commodi dolor at maiores et quis id accusantium\n",
      "60 consequatur placeat omnis quisquam quia reprehenderit fugit veritatis facere\n",
      "61 voluptatem doloribus consectetur est ut ducimus\n",
      "62 beatae enim quia vel\n",
      "63 voluptas blanditiis repellendus animi ducimus error sapiente et suscipit\n",
      "64 et fugit quas eum in in aperiam quod\n",
      "65 consequatur id enim sunt et et\n",
      "66 repudiandae ea animi iusto\n",
      "67 aliquid eos sed fuga est maxime repellendus\n",
      "68 odio quis facere architecto reiciendis optio\n",
      "69 fugiat quod pariatur odit minima\n",
      "70 voluptatem laborum magni\n"
     ]
    }
   ],
   "source": [
    "import requests\n",
    "import json\n",
    "\n",
    "url = \"https://jsonplaceholder.typicode.com/posts\"\n",
    "\n",
    "data = requests.get(url).json()  #<=requests에 포함된 서비스\n",
    "for d in data[49:70]:\n",
    "    print(d[\"id\"],d[\"title\"])\n"
   ]
  },
  {
   "cell_type": "markdown",
   "id": "7c29030a",
   "metadata": {},
   "source": []
  },
  {
   "cell_type": "code",
   "execution_count": 35,
   "id": "09ae1108",
   "metadata": {},
   "outputs": [
    {
     "name": "stdout",
     "output_type": "stream",
     "text": [
      "50 repellendus qui recusandae incidunt voluptates tenetur qui omnis exercitationem\n",
      "51 soluta aliquam aperiam consequatur illo quis voluptas\n",
      "52 qui enim et consequuntur quia animi quis voluptate quibusdam\n",
      "53 ut quo aut ducimus alias\n",
      "54 sit asperiores ipsam eveniet odio non quia\n",
      "55 sit vel voluptatem et non libero\n",
      "56 qui et at rerum necessitatibus\n",
      "57 sed ab est est\n",
      "58 voluptatum itaque dolores nisi et quasi\n",
      "59 qui commodi dolor at maiores et quis id accusantium\n",
      "60 consequatur placeat omnis quisquam quia reprehenderit fugit veritatis facere\n",
      "61 voluptatem doloribus consectetur est ut ducimus\n",
      "62 beatae enim quia vel\n",
      "63 voluptas blanditiis repellendus animi ducimus error sapiente et suscipit\n",
      "64 et fugit quas eum in in aperiam quod\n",
      "65 consequatur id enim sunt et et\n",
      "66 repudiandae ea animi iusto\n",
      "67 aliquid eos sed fuga est maxime repellendus\n",
      "68 odio quis facere architecto reiciendis optio\n",
      "69 fugiat quod pariatur odit minima\n",
      "70 voluptatem laborum magni\n"
     ]
    }
   ],
   "source": [
    "import requests\n",
    "import json\n",
    "\n",
    "url = \"https://jsonplaceholder.typicode.com/posts\"\n",
    "\n",
    "data = requests.get(url).json()  #<=requests에 포함된 서비스\n",
    "for d in data:\n",
    "    if d.get(\"id\") >= 50 and d.get(\"id\") <= 70 :\n",
    "        print(d[\"id\"],d[\"title\"])\n"
   ]
  },
  {
   "cell_type": "code",
   "execution_count": 44,
   "id": "53eb1686",
   "metadata": {},
   "outputs": [
    {
     "name": "stdout",
     "output_type": "stream",
     "text": [
      "50 repellendus qui recusandae incidunt voluptates tenetur qui omnis exercitationem\n",
      "51 soluta aliquam aperiam consequatur illo quis voluptas\n",
      "52 qui enim et consequuntur quia animi quis voluptate quibusdam\n",
      "53 ut quo aut ducimus alias\n",
      "54 sit asperiores ipsam eveniet odio non quia\n",
      "55 sit vel voluptatem et non libero\n",
      "56 qui et at rerum necessitatibus\n",
      "57 sed ab est est\n",
      "58 voluptatum itaque dolores nisi et quasi\n",
      "59 qui commodi dolor at maiores et quis id accusantium\n",
      "60 consequatur placeat omnis quisquam quia reprehenderit fugit veritatis facere\n",
      "61 voluptatem doloribus consectetur est ut ducimus\n",
      "62 beatae enim quia vel\n",
      "63 voluptas blanditiis repellendus animi ducimus error sapiente et suscipit\n",
      "64 et fugit quas eum in in aperiam quod\n",
      "65 consequatur id enim sunt et et\n",
      "66 repudiandae ea animi iusto\n",
      "67 aliquid eos sed fuga est maxime repellendus\n",
      "68 odio quis facere architecto reiciendis optio\n",
      "69 fugiat quod pariatur odit minima\n",
      "70 voluptatem laborum magni\n",
      "json_test.json 파일에 저장되었습니다.\n"
     ]
    }
   ],
   "source": [
    "import requests\n",
    "import json\n",
    "\n",
    "url = \"https://jsonplaceholder.typicode.com/posts\"\n",
    "\n",
    "data = requests.get(url).json()  #<=requests에 포함된 서비스\n",
    "for d in data:\n",
    "    if d.get(\"id\") >= 50 and d.get(\"id\") <= 70 :\n",
    "        print(d[\"id\"],d[\"title\"])\n",
    "        \n",
    "with open(\"json_test.json\", \"w\") as f:\n",
    "            \n",
    "    json.dump(data, f, ensure_ascii=False)\n",
    "print(\"json_test.json 파일에 저장되었습니다.\")\n"
   ]
  },
  {
   "cell_type": "code",
   "execution_count": 45,
   "id": "4fc5faf2",
   "metadata": {},
   "outputs": [
    {
     "name": "stdout",
     "output_type": "stream",
     "text": [
      "Requirement already satisfied: beautifulsoup4 in c:\\users\\user\\appdata\\local\\programs\\python\\python313\\lib\\site-packages (4.13.4)\n",
      "Requirement already satisfied: soupsieve>1.2 in c:\\users\\user\\appdata\\local\\programs\\python\\python313\\lib\\site-packages (from beautifulsoup4) (2.7)\n",
      "Requirement already satisfied: typing-extensions>=4.0.0 in c:\\users\\user\\appdata\\local\\programs\\python\\python313\\lib\\site-packages (from beautifulsoup4) (4.14.1)\n"
     ]
    }
   ],
   "source": [
    "!pip install beautifulsoup4"
   ]
  },
  {
   "cell_type": "code",
   "execution_count": 61,
   "id": "c2aac45d",
   "metadata": {},
   "outputs": [
    {
     "ename": "ValueError",
     "evalue": "invalid literal for int() with base 10: '60,700'",
     "output_type": "error",
     "traceback": [
      "\u001b[31m---------------------------------------------------------------------------\u001b[39m",
      "\u001b[31mValueError\u001b[39m                                Traceback (most recent call last)",
      "\u001b[36mCell\u001b[39m\u001b[36m \u001b[39m\u001b[32mIn[61]\u001b[39m\u001b[32m, line 17\u001b[39m\n\u001b[32m     15\u001b[39m number = t.select_one(\u001b[33m\"\u001b[39m\u001b[33m.number\u001b[39m\u001b[33m\"\u001b[39m)\n\u001b[32m     16\u001b[39m \u001b[38;5;28;01mif\u001b[39;00m (no \u001b[38;5;129;01mor\u001b[39;00m title \u001b[38;5;129;01mor\u001b[39;00m number):\n\u001b[32m---> \u001b[39m\u001b[32m17\u001b[39m     \u001b[38;5;28;01mif\u001b[39;00m (\u001b[38;5;28;43mint\u001b[39;49m\u001b[43m(\u001b[49m\u001b[43mnumber\u001b[49m\u001b[43m.\u001b[49m\u001b[43mtext\u001b[49m\u001b[43m)\u001b[49m.replace(\u001b[33m\"\u001b[39m\u001b[33m,\u001b[39m\u001b[33m\"\u001b[39m,\u001b[33m\"\u001b[39m\u001b[33m\"\u001b[39m)) < \u001b[32m60000\u001b[39m :\n\u001b[32m     18\u001b[39m         \u001b[38;5;28mprint\u001b[39m(no.text,title.text, \u001b[38;5;28mint\u001b[39m(number.text.replace(\u001b[33m\"\u001b[39m\u001b[33m,\u001b[39m\u001b[33m\"\u001b[39m,\u001b[33m\"\u001b[39m\u001b[33m\"\u001b[39m)))\n",
      "\u001b[31mValueError\u001b[39m: invalid literal for int() with base 10: '60,700'"
     ]
    }
   ],
   "source": [
    "import requests as req\n",
    "from bs4 import BeautifulSoup as bs\n",
    "\n",
    "url = \"https://finance.naver.com/sise/sise_market_sum.naver\"\n",
    "\n",
    "web = req.get(url)\n",
    "\n",
    "soup = bs(web.content, \"html.parser\")\n",
    "\n",
    "table_line = soup.select(\".type_2 tr\")\n",
    "\n",
    "for t in table_line:\n",
    "    no = t.select_one(\".no\")\n",
    "    title = t.select_one(\".tltle\")\n",
    "    number = t.select_one(\".number\")\n",
    "    if (no or title or number):\n",
    "        if (int(number.text).replace(\",\",\"\")) < 60000 :\n",
    "            print(no.text,title.text, int(number.text.replace(\",\",\"\")))\n"
   ]
  },
  {
   "cell_type": "code",
   "execution_count": 66,
   "id": "dc6d583a",
   "metadata": {},
   "outputs": [],
   "source": [
    "!pip install -q -U google-genai"
   ]
  },
  {
   "cell_type": "code",
   "execution_count": 68,
   "id": "fa83aa9a",
   "metadata": {},
   "outputs": [
    {
     "name": "stdout",
     "output_type": "stream",
     "text": [
      "API 키(API Key)는 **애플리케이션이 특정 API(Application Programming Interface)에 접근하고 사용할 수 있도록 허용하는 고유한 식별자**입니다. 일종의 '디지털 문 열쇠' 또는 '신분증'이라고 생각하시면 이해하기 쉽습니다.\n",
      "\n",
      "**API 키의 주요 역할과 목적:**\n",
      "\n",
      "1.  **인증(Authentication): 누가 요청하는가?**\n",
      "    *   API 서버는 들어오는 요청이 누가 보낸 것인지 확인하기 위해 API 키를 사용합니다. 유효한 키를 가진 애플리케이션만 API에 접근할 수 있도록 허용합니다. 이는 허가받지 않은 접근을 막는 첫 번째 단계입니다.\n",
      "\n",
      "2.  **권한 부여(Authorization): 무엇을 할 수 있는가?**\n",
      "    *   단순히 접근을 허용하는 것을 넘어, API 키에 특정 권한을 연결할 수 있습니다. 예를 들어, 어떤 키는 데이터 읽기만 가능하고, 다른 키는 데이터 쓰기/수정까지 가능하도록 설정할 수 있습니다.\n",
      "\n",
      "3.  **사용량 제한 및 관리(Rate Limiting & Throttling): 얼마나 많이 사용할 수 있는가?**\n",
      "    *   API 제공자는 특정 API 키를 사용하는 애플리케이션이 일정 시간 내에 보낼 수 있는 요청 수를 제한할 수 있습니다. 이는 서버 과부하를 방지하고, 모든 사용자가 공정하게 API를 사용할 수 있도록 합니다.\n",
      "    *   특정 키의 사용량을 추적하여 과도한 사용을 감지하거나, 유료 API의 경우 사용량에 따라 요금을 청구하는 데 활용됩니다.\n",
      "\n",
      "4.  **모니터링 및 분석(Monitoring & Analytics): 어떻게 사용되고 있는가?**\n",
      "    *   어떤 API 키가 가장 많이 사용되는지, 어떤 기능이 인기 있는지 등을 추적하여 서비스 개선이나 문제 해결에 필요한 데이터를 수집할 수 있습니다.\n",
      "\n",
      "5.  **보안(Security): 무단 접근 방지**\n",
      "    *   API 키를 통해 누가, 언제, 어떤 방식으로 API를 사용했는지 기록하고 관리함으로써, 악의적인 사용이나 오용을 감지하고 차단하는 데 도움이 됩니다.\n",
      "\n",
      "**API 키의 작동 방식 (간단히):**\n",
      "\n",
      "1.  API 제공자 웹사이트에서 계정을 생성하고 API 키를 발급받습니다.\n",
      "2.  개발자는 자신의 애플리케이션 코드에 이 API 키를 포함시킵니다.\n",
      "3.  애플리케이션이 API에 요청을 보낼 때, 이 API 키를 요청의 일부(예: HTTP 헤더, 쿼리 파라미터 등)로 함께 전송합니다.\n",
      "4.  API 서버는 요청을 수신하면 함께 전송된 API 키의 유효성을 검사하고, 해당 키에 부여된 권한을 확인한 후 요청을 처리할지 여부를 결정합니다.\n",
      "5.  유효한 키가 아니거나, 권한이 없으면 `401 Unauthorized` 또는 `403 Forbidden`과 같은 오류 응답을 보냅니다.\n",
      "\n",
      "**API 키 사용 시 주의사항 (매우 중요!):**\n",
      "\n",
      "*   **절대 공개적으로 노출하지 마세요:** API 키는 계정의 비밀번호와 유사하게 취급되어야 합니다. GitHub와 같은 공개 저장소에 직접 코드를 올리거나, 웹 프론트엔드 코드(클라이언트 측 자바스크립트 등)에 하드코딩해서는 안 됩니다. 노출될 경우 악용될 위험이 매우 큽니다.\n",
      "*   **안전하게 보관하세요:** 서버 환경 변수, 보안 볼트(Secret Vault), 또는 백엔드에서만 접근 가능한 설정 파일 등을 통해 안전하게 보관해야 합니다.\n",
      "*   **필요한 최소한의 권한만 부여하세요:** 하나의 API 키에 모든 권한을 부여하기보다, 역할에 따라 다른 권한을 가진 여러 키를 사용하는 것이 보안에 좋습니다.\n",
      "*   **IP 제한 또는 도메인 제한을 활용하세요:** API 제공자가 이 기능을 지원한다면, 특정 IP 주소나 도메인에서만 해당 API 키를 사용할 수 있도록 제한하여 보안을 강화할 수 있습니다.\n",
      "*   **정기적으로 키를 교체하거나 사용하지 않는 키는 폐기하세요:** 보안 침해 가능성을 줄일 수 있습니다.\n",
      "\n",
      "요약하자면, API 키는 API 서비스의 **보안, 관리, 통제**를 위한 핵심적인 도구이며, 올바른 사용과 관리가 매우 중요합니다.\n"
     ]
    }
   ],
   "source": [
    "from google import genai\n",
    "\n",
    "client = genai.Client(api_key=\"AIz8882aSyBKKJ_1dunLRQkfI8e0DQZ9J_cRsE5dNPo\")\n",
    "\n",
    "response = client.models.generate_content(\n",
    "    model=\"gemini-2.5-flash\", contents=\"API키에 대해서 설명해줘\"\n",
    ")\n",
    "print(response.text)"
   ]
  },
  {
   "cell_type": "code",
   "execution_count": 72,
   "id": "e5338491",
   "metadata": {},
   "outputs": [
    {
     "name": "stdout",
     "output_type": "stream",
     "text": [
      "안녕하세요! 1워드 메모리에 대해 스마트팩토리와 연결하여 친절하게 설명해 드릴게요.\n",
      "\n",
      "1워드 메모리는 스마트팩토리에서 가장 기본적인 정보 단위인 '참/거짓' 또는 '켜짐/꺼짐' 같은 이진 상태를 저장하는 최소한의 공간입니다.\n",
      "\n",
      "예를 들어, 생산 라인의 센서가 물체를 감지했는지(1) 여부, 기계가 현재 작동 중인지(1) 멈췄는지(0), 특정 경고등이 켜졌는지(1) 등의 즉각적인 상태 정보를 효율적으로 관리하는 데 사용되죠.\n",
      "\n",
      "이는 공정 자동화에 필수적인 실시간 제어와 빠른 응답을 가능하게 하여, 스마트팩토리의 효율성과 정밀도를 높이는 중요한 역할을 합니다. 꼭 필요한 최소한의 정보만 빠르게 처리하는 핵심 요소랍니다.\n"
     ]
    }
   ],
   "source": [
    "from google import genai\n",
    "\n",
    "def aiai(text):\n",
    "    client = genai.Client(api_key=\"AIz8882aSyBKKJ_1dunLRQkfI8e0DQZ9J_cRsE5dNPo\")\n",
    "\n",
    "    response = client.models.generate_content(\n",
    "        model=\"gemini-2.5-flash\", contents=text + \";단 300자 이내로 서술형으로 친절하게 알려줘. 스마트팩토리와 관련된 대답만 해줘.\"\n",
    "    )\n",
    "    print(response.text)\n",
    "\n",
    "aiai(\"1워드 메모리에 대해서 설명해 줘.\")"
   ]
  }
 ],
 "metadata": {
  "kernelspec": {
   "display_name": "Python 3 (ipykernel)",
   "language": "python",
   "name": "python3"
  }
 },
 "nbformat": 4,
 "nbformat_minor": 5
}
